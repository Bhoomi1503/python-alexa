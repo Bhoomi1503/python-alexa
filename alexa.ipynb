{
 "cells": [
  {
   "cell_type": "code",
   "execution_count": 3,
   "id": "074ae7f8",
   "metadata": {},
   "outputs": [
    {
     "name": "stdout",
     "output_type": "stream",
     "text": [
      "listening...\n",
      "hey  play kanave kanave song\n",
      "hey  play kanave kanave song\n",
      "listening...\n"
     ]
    },
    {
     "ename": "UnboundLocalError",
     "evalue": "local variable 'command' referenced before assignment",
     "output_type": "error",
     "traceback": [
      "\u001b[1;31m---------------------------------------------------------------------------\u001b[0m",
      "\u001b[1;31mUnboundLocalError\u001b[0m                         Traceback (most recent call last)",
      "Cell \u001b[1;32mIn[3], line 79\u001b[0m\n\u001b[0;32m     76\u001b[0m         talk(\u001b[38;5;124m'\u001b[39m\u001b[38;5;124mplease say the command again\u001b[39m\u001b[38;5;124m'\u001b[39m)\n\u001b[0;32m     78\u001b[0m \u001b[38;5;28;01mwhile\u001b[39;00m \u001b[38;5;28;01mTrue\u001b[39;00m:        \n\u001b[1;32m---> 79\u001b[0m     \u001b[43mrun_alexa\u001b[49m\u001b[43m(\u001b[49m\u001b[43m)\u001b[49m\n",
      "Cell \u001b[1;32mIn[3], line 46\u001b[0m, in \u001b[0;36mrun_alexa\u001b[1;34m()\u001b[0m\n\u001b[0;32m     45\u001b[0m \u001b[38;5;28;01mdef\u001b[39;00m \u001b[38;5;21mrun_alexa\u001b[39m():\n\u001b[1;32m---> 46\u001b[0m     command\u001b[38;5;241m=\u001b[39m \u001b[43mtake_command\u001b[49m\u001b[43m(\u001b[49m\u001b[43m)\u001b[49m\n\u001b[0;32m     47\u001b[0m     \u001b[38;5;28mprint\u001b[39m(command)\n\u001b[0;32m     48\u001b[0m     \u001b[38;5;28;01mif\u001b[39;00m \u001b[38;5;124m'\u001b[39m\u001b[38;5;124mplay\u001b[39m\u001b[38;5;124m'\u001b[39m \u001b[38;5;129;01min\u001b[39;00m command:\n",
      "Cell \u001b[1;32mIn[3], line 42\u001b[0m, in \u001b[0;36mtake_command\u001b[1;34m()\u001b[0m\n\u001b[0;32m     40\u001b[0m \u001b[38;5;28;01mexcept\u001b[39;00m:\n\u001b[0;32m     41\u001b[0m    \u001b[38;5;28;01mpass\u001b[39;00m\n\u001b[1;32m---> 42\u001b[0m \u001b[38;5;28;01mreturn\u001b[39;00m \u001b[43mcommand\u001b[49m\n",
      "\u001b[1;31mUnboundLocalError\u001b[0m: local variable 'command' referenced before assignment"
     ]
    }
   ],
   "source": [
    "import speech_recognition as sr \n",
    "# listening to the user by using speech recognition library\n",
    "import pyttsx3\n",
    "# alexa speaks to us using pyttsx3\n",
    "import pywhatkit\n",
    "# search youtube \n",
    "import datetime\n",
    "import wikipedia\n",
    "import pyjokes\n",
    "\n",
    "listener= sr.Recognizer()\n",
    "engine= pyttsx3.init() \n",
    "voices= engine.getProperty('voices')\n",
    "engine.setProperty('voice', voices[1].id)\n",
    "# voice change from male to female\n",
    "\n",
    "# function declaration\n",
    "def talk(text):\n",
    " engine.say(text)\n",
    "#  engine.say('what can i do for u') alexa speaks what is inside the ()\n",
    " engine.runAndWait()\n",
    "\n",
    "def take_command():\n",
    " try:\n",
    "    with sr.Microphone() as source:\n",
    "#         using microphone as a source listen to the listener\n",
    "        print('listening...') \n",
    "#     printing statement\n",
    "        voice= listener.listen(source)\n",
    "        command= listener.recognize_google(voice)\n",
    "#         recognize the voice using google API\n",
    "        command= command.lower()\n",
    "        if 'alexa' in command:\n",
    "#             if we say alexa then it works using the commend \n",
    "            command= command.replace('alexa','')\n",
    "#     removing the word alexa while displaying the output\n",
    "            print(command)\n",
    "#             print statement is used to get the user voice and display what the user is saying...\n",
    "#          talk(command)\n",
    " except:\n",
    "    pass\n",
    " return command\n",
    "\n",
    "\n",
    "def run_alexa():\n",
    "    command= take_command()\n",
    "    print(command)\n",
    "    if 'play' in command:\n",
    "        song= command.replace('play','')\n",
    "#     removing the word play while displaying the output\n",
    "        talk('playing' + song)\n",
    "#         print(playing)\n",
    "        pywhatkit.playonyt(song)\n",
    "#     song will be playing on youtube\n",
    "    \n",
    "    elif 'time' in command:\n",
    "        time= datetime.datetime.now().strftime('%H:%M') \n",
    "#         %I:%M %p\n",
    "        talk('current time is' + time)\n",
    "        print(time)\n",
    "        \n",
    "    elif 'who is' in command:\n",
    "        person = command.replace('who is','')\n",
    "        info= wikipedia.summary(person,1)\n",
    "        print(info)\n",
    "        talk(info)\n",
    "        \n",
    "    elif 'food' in command:\n",
    "        talk('i am AI so wont have food')\n",
    "    elif 'are u crazy' in command:\n",
    "        talk('i am just funny')\n",
    "    elif 'jokes' in command:\n",
    "        talk(pyjokes.get_joke())\n",
    "#         return pyjokes.get_joke()\n",
    "    else:\n",
    "        talk('please say the command again')\n",
    "        \n",
    "while True:        \n",
    "    run_alexa()\n",
    "#     function call "
   ]
  },
  {
   "cell_type": "code",
   "execution_count": null,
   "id": "f3771fb4",
   "metadata": {},
   "outputs": [],
   "source": []
  },
  {
   "cell_type": "code",
   "execution_count": null,
   "id": "fb81de02",
   "metadata": {},
   "outputs": [],
   "source": []
  }
 ],
 "metadata": {
  "kernelspec": {
   "display_name": "Python 3 (ipykernel)",
   "language": "python",
   "name": "python3"
  },
  "language_info": {
   "codemirror_mode": {
    "name": "ipython",
    "version": 3
   },
   "file_extension": ".py",
   "mimetype": "text/x-python",
   "name": "python",
   "nbconvert_exporter": "python",
   "pygments_lexer": "ipython3",
   "version": "3.10.9"
  }
 },
 "nbformat": 4,
 "nbformat_minor": 5
}
